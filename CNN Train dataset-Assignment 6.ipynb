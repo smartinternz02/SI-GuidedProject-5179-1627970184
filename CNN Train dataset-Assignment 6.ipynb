{
 "cells": [
  {
   "cell_type": "code",
   "execution_count": 5,
   "metadata": {},
   "outputs": [],
   "source": [
    "#import libraries\n",
    "from tensorflow.keras.models import Sequential\n",
    "from tensorflow.keras.layers import Dense,Convolution2D,MaxPooling2D,Flatten"
   ]
  },
  {
   "cell_type": "code",
   "execution_count": 6,
   "metadata": {},
   "outputs": [],
   "source": [
    "from tensorflow.keras.preprocessing.image import ImageDataGenerator"
   ]
  },
  {
   "cell_type": "code",
   "execution_count": 7,
   "metadata": {},
   "outputs": [],
   "source": [
    "train_datagen=ImageDataGenerator(rescale=1./255,shear_range=0.2,zoom_range=0.2,horizontal_flip=True)\n",
    "test_datagen=ImageDataGenerator(rescale=1./255)"
   ]
  },
  {
   "cell_type": "code",
   "execution_count": 9,
   "metadata": {},
   "outputs": [
    {
     "name": "stdout",
     "output_type": "stream",
     "text": [
      "Found 505 images belonging to 5 classes.\n",
      "Found 385 images belonging to 5 classes.\n"
     ]
    }
   ],
   "source": [
    "x_train=train_datagen.flow_from_directory(r\"C:\\MP\\transport dataset\\trainset\",target_size=(64,64),batch_size=32,class_mode=\"categorical\")\n",
    "x_test=test_datagen.flow_from_directory(r\"C:\\MP\\transport dataset\\testset\",target_size=(64,64),batch_size=32,class_mode=\"categorical\")"
   ]
  },
  {
   "cell_type": "code",
   "execution_count": 10,
   "metadata": {},
   "outputs": [],
   "source": [
    "cnn=Sequential()"
   ]
  },
  {
   "cell_type": "code",
   "execution_count": 12,
   "metadata": {},
   "outputs": [],
   "source": [
    "cnn.add(Convolution2D(32,(3,3),input_shape=(64,64,3)))"
   ]
  },
  {
   "cell_type": "code",
   "execution_count": 13,
   "metadata": {},
   "outputs": [],
   "source": [
    "cnn.add(MaxPooling2D(2,2))"
   ]
  },
  {
   "cell_type": "code",
   "execution_count": 14,
   "metadata": {},
   "outputs": [],
   "source": [
    "#acts as input layer\n",
    "cnn.add(Flatten())"
   ]
  },
  {
   "cell_type": "code",
   "execution_count": 16,
   "metadata": {},
   "outputs": [],
   "source": [
    "#adding hidden layer\n",
    "cnn.add(Dense(units=128,kernel_initializer='random_uniform',activation='relu'))"
   ]
  },
  {
   "cell_type": "code",
   "execution_count": 17,
   "metadata": {},
   "outputs": [],
   "source": [
    "#adding output layer\n",
    "cnn.add(Dense(units=5,kernel_initializer='random_uniform',activation='softmax'))"
   ]
  },
  {
   "cell_type": "code",
   "execution_count": 18,
   "metadata": {},
   "outputs": [],
   "source": [
    "cnn.compile(optimizer='rmsprop',loss='categorical_crossentropy',metrics=['accuracy'])"
   ]
  },
  {
   "cell_type": "code",
   "execution_count": 20,
   "metadata": {},
   "outputs": [
    {
     "name": "stdout",
     "output_type": "stream",
     "text": [
      "Epoch 1/15\n",
      "16/15 [==============================] - 17s 1s/step - loss: 0.1359 - acc: 0.9584 - val_loss: 0.1238 - val_acc: 0.9610\n",
      "Epoch 2/15\n",
      "16/15 [==============================] - 14s 849ms/step - loss: 0.1615 - acc: 0.9584 - val_loss: 0.1888 - val_acc: 0.9325\n",
      "Epoch 3/15\n",
      "16/15 [==============================] - 11s 703ms/step - loss: 0.0742 - acc: 0.9723 - val_loss: 0.0318 - val_acc: 0.9948\n",
      "Epoch 4/15\n",
      "16/15 [==============================] - 14s 870ms/step - loss: 0.0753 - acc: 0.9723 - val_loss: 0.0088 - val_acc: 0.9974\n",
      "Epoch 5/15\n",
      "16/15 [==============================] - 11s 702ms/step - loss: 0.0711 - acc: 0.9723 - val_loss: 0.0399 - val_acc: 0.9922\n",
      "Epoch 6/15\n",
      "16/15 [==============================] - 13s 833ms/step - loss: 0.1115 - acc: 0.9624 - val_loss: 0.0267 - val_acc: 0.9974\n",
      "Epoch 7/15\n",
      "16/15 [==============================] - 11s 687ms/step - loss: 0.0381 - acc: 0.9861 - val_loss: 0.0271 - val_acc: 0.9896\n",
      "Epoch 8/15\n",
      "16/15 [==============================] - 14s 859ms/step - loss: 0.0933 - acc: 0.9624 - val_loss: 0.0098 - val_acc: 0.9974\n",
      "Epoch 9/15\n",
      "16/15 [==============================] - 11s 713ms/step - loss: 0.1384 - acc: 0.9604 - val_loss: 0.1715 - val_acc: 0.9403\n",
      "Epoch 10/15\n",
      "16/15 [==============================] - 13s 814ms/step - loss: 0.0521 - acc: 0.9881 - val_loss: 0.0141 - val_acc: 0.9948\n",
      "Epoch 11/15\n",
      "16/15 [==============================] - 12s 737ms/step - loss: 0.0471 - acc: 0.9802 - val_loss: 0.0644 - val_acc: 0.9766\n",
      "Epoch 12/15\n",
      "16/15 [==============================] - 14s 871ms/step - loss: 0.0315 - acc: 0.9881 - val_loss: 0.0290 - val_acc: 0.9870\n",
      "Epoch 13/15\n",
      "16/15 [==============================] - 11s 705ms/step - loss: 0.0774 - acc: 0.9723 - val_loss: 0.0123 - val_acc: 0.9974\n",
      "Epoch 14/15\n",
      "16/15 [==============================] - 14s 845ms/step - loss: 0.0180 - acc: 0.9980 - val_loss: 0.0070 - val_acc: 0.9974\n",
      "Epoch 15/15\n",
      "16/15 [==============================] - 11s 712ms/step - loss: 0.0321 - acc: 0.9901 - val_loss: 0.0252 - val_acc: 0.9948\n"
     ]
    },
    {
     "data": {
      "text/plain": [
       "<tensorflow.python.keras.callbacks.History at 0x23d1b36ef60>"
      ]
     },
     "execution_count": 20,
     "metadata": {},
     "output_type": "execute_result"
    }
   ],
   "source": [
    "cnn.fit_generator(x_train,steps_per_epoch=505/32,epochs=15,validation_data=x_test,validation_steps=385/32,)"
   ]
  },
  {
   "cell_type": "code",
   "execution_count": 21,
   "metadata": {},
   "outputs": [],
   "source": [
    "cnn.save('trans.h5')"
   ]
  },
  {
   "cell_type": "code",
   "execution_count": null,
   "metadata": {},
   "outputs": [],
   "source": []
  }
 ],
 "metadata": {
  "kernelspec": {
   "display_name": "Python 3",
   "language": "python",
   "name": "python3"
  },
  "language_info": {
   "codemirror_mode": {
    "name": "ipython",
    "version": 3
   },
   "file_extension": ".py",
   "mimetype": "text/x-python",
   "name": "python",
   "nbconvert_exporter": "python",
   "pygments_lexer": "ipython3",
   "version": "3.7.3"
  }
 },
 "nbformat": 4,
 "nbformat_minor": 2
}
